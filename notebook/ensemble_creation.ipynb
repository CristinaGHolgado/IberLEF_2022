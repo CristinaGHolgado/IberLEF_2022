{
 "cells": [
  {
   "cell_type": "code",
   "execution_count": 40,
   "metadata": {},
   "outputs": [],
   "source": [
    "import os\n",
    "\n",
    "import numpy as np\n",
    "import pandas as pd\n",
    "from tqdm import tqdm\n",
    "\n",
    "from sklearn.metrics import classification_report, confusion_matrix, f1_score"
   ]
  },
  {
   "cell_type": "code",
   "execution_count": 8,
   "metadata": {},
   "outputs": [
    {
     "data": {
      "text/plain": [
       "['results_svm_glove.csv',\n",
       " 'results_svm.zip',\n",
       " 'results_svm_ngram.csv',\n",
       " 'results_rf.zip',\n",
       " 'results_svm_laser.csv',\n",
       " 'results_svm_tfidf.csv',\n",
       " 'results_1649767718.009234.csv',\n",
       " 'results.csv']"
      ]
     },
     "execution_count": 8,
     "metadata": {},
     "output_type": "execute_result"
    }
   ],
   "source": [
    "prefix = '../logs/'\n",
    "os.listdir(prefix)"
   ]
  },
  {
   "cell_type": "code",
   "execution_count": 11,
   "metadata": {},
   "outputs": [],
   "source": [
    "dfs = []\n",
    "for fname in os.listdir('../logs/'):\n",
    "    if 'results_svm_' in fname:\n",
    "        df = pd.read_csv(prefix+fname)\n",
    "        dfs.append(df)"
   ]
  },
  {
   "cell_type": "code",
   "execution_count": 33,
   "metadata": {},
   "outputs": [],
   "source": [
    "final_df = pd.DataFrame()\n",
    "for col_name in  df.columns:\n",
    "    single_cols = pd.DataFrame(np.asarray([d[col_name] for d in dfs]).transpose())\n",
    "    #print(single_cols)\n",
    "    final_df[col_name] = single_cols.mode(axis=1)[0]\n",
    "    "
   ]
  },
  {
   "cell_type": "code",
   "execution_count": 41,
   "metadata": {},
   "outputs": [
    {
     "name": "stderr",
     "output_type": "stream",
     "text": [
      "merging users: 100%|██████████| 101/101 [00:00<00:00, 1331.39it/s]\n"
     ]
    }
   ],
   "source": [
    "test_df = pd.read_csv('../data/development.csv')\n",
    "def aggregate_users(df):\n",
    "    columns_to_group_by_user = ['label', 'gender', 'profession', 'ideology_binary', 'ideology_multiclass']\n",
    "\n",
    "    group = df.groupby(by = columns_to_group_by_user, dropna = False, observed = True, sort = False)\n",
    "\n",
    "    # Custom df per user\n",
    "    df_users = group[columns_to_group_by_user].agg(func = ['count'], as_index = False, observed = True).index.to_frame (index = False)\n",
    "\n",
    "    merged_fields = []\n",
    "\n",
    "    pbar = tqdm(df_users.iterrows(), total = df_users.shape[0], desc = \"merging users\")\n",
    "\n",
    "    for index, row in pbar:\n",
    "        df_user = df[(df['label'] == row['label'])]\n",
    "        merged_fields.append({**row, **{field: ' [SEP] '.join (df_user[field].fillna ('')) for field in ['tweet']}})\n",
    "\n",
    "    df = pd.DataFrame (merged_fields)\n",
    "    return df\n",
    "\n",
    "\n",
    "truth = aggregate_users(test_df)"
   ]
  },
  {
   "cell_type": "code",
   "execution_count": 45,
   "metadata": {},
   "outputs": [
    {
     "name": "stdout",
     "output_type": "stream",
     "text": [
      "For label: gender\n",
      "              precision    recall  f1-score   support\n",
      "\n",
      "      female       0.87      0.94      0.90        48\n",
      "        male       0.94      0.87      0.90        53\n",
      "\n",
      "    accuracy                           0.90       101\n",
      "   macro avg       0.90      0.90      0.90       101\n",
      "weighted avg       0.90      0.90      0.90       101\n",
      "\n",
      "F1 : 0.9009900990099011\n",
      "For label: profession\n",
      "              precision    recall  f1-score   support\n",
      "\n",
      "  journalist       0.64      1.00      0.78        14\n",
      "  politician       1.00      0.91      0.95        87\n",
      "\n",
      "    accuracy                           0.92       101\n",
      "   macro avg       0.82      0.95      0.86       101\n",
      "weighted avg       0.95      0.92      0.93       101\n",
      "\n",
      "F1 : 0.9207920792079208\n",
      "For label: ideology_binary\n",
      "              precision    recall  f1-score   support\n",
      "\n",
      "        left       0.96      1.00      0.98        55\n",
      "       right       1.00      0.96      0.98        46\n",
      "\n",
      "    accuracy                           0.98       101\n",
      "   macro avg       0.98      0.98      0.98       101\n",
      "weighted avg       0.98      0.98      0.98       101\n",
      "\n",
      "F1 : 0.9801980198019802\n",
      "For label: ideology_multiclass\n",
      "                precision    recall  f1-score   support\n",
      "\n",
      "          left       0.95      1.00      0.97        19\n",
      " moderate_left       0.95      1.00      0.97        36\n",
      "moderate_right       1.00      0.90      0.95        31\n",
      "         right       0.87      0.87      0.87        15\n",
      "\n",
      "      accuracy                           0.95       101\n",
      "     macro avg       0.94      0.94      0.94       101\n",
      "  weighted avg       0.95      0.95      0.95       101\n",
      "\n",
      "F1 : 0.9504950495049505\n",
      "Overall f1 score : 0.9381188118811882\n"
     ]
    }
   ],
   "source": [
    "f1s = []\n",
    "for col_name in  df.columns[1:]:\n",
    "    print(f\"For label: {col_name}\" )\n",
    "    predictions = final_df[col_name]\n",
    "    ytest = truth[col_name]\n",
    "    cr = classification_report(ytest, predictions)\n",
    "    score = f1_score(ytest, predictions , average='micro')\n",
    "    f1s.append(score)\n",
    "    print(cr)\n",
    "    \n",
    "    print(f'F1 : {score}')\n",
    "    \n",
    "print(f'Overall f1 score : {np.mean(f1s)}')"
   ]
  },
  {
   "cell_type": "code",
   "execution_count": null,
   "metadata": {},
   "outputs": [],
   "source": []
  }
 ],
 "metadata": {
  "kernelspec": {
   "display_name": "Python 3",
   "language": "python",
   "name": "python3"
  },
  "language_info": {
   "codemirror_mode": {
    "name": "ipython",
    "version": 3
   },
   "file_extension": ".py",
   "mimetype": "text/x-python",
   "name": "python",
   "nbconvert_exporter": "python",
   "pygments_lexer": "ipython3",
   "version": "3.8.10"
  }
 },
 "nbformat": 4,
 "nbformat_minor": 4
}
